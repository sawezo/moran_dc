{
 "cells": [
  {
   "cell_type": "markdown",
   "id": "78cd81a1",
   "metadata": {},
   "source": [
    "# Census Data Collection"
   ]
  },
  {
   "cell_type": "markdown",
   "id": "ec453255",
   "metadata": {},
   "source": [
    "The American Census is a large endeavor, consisting of multiple surveys which vary from time series to geographical mappings. As a result, I took some time to go through some of what is there and (lightly) explore some of the data. This notebook explains current thoughts and processes, then performs API calls and processing to obtain a dashboard to use in my Moran's I post. "
   ]
  },
  {
   "cell_type": "markdown",
   "id": "d79b96cc",
   "metadata": {},
   "source": [
    "## Setup"
   ]
  },
  {
   "cell_type": "code",
   "execution_count": 1,
   "id": "8773551b",
   "metadata": {
    "ExecuteTime": {
     "end_time": "2021-11-19T02:30:43.210876Z",
     "start_time": "2021-11-19T02:30:43.195454Z"
    }
   },
   "outputs": [],
   "source": [
    "%load_ext autoreload\n",
    "%autoreload 2"
   ]
  },
  {
   "cell_type": "markdown",
   "id": "0c20f7d6",
   "metadata": {
    "heading_collapsed": true
   },
   "source": [
    "### Imports"
   ]
  },
  {
   "cell_type": "code",
   "execution_count": 2,
   "id": "473d906f",
   "metadata": {
    "ExecuteTime": {
     "end_time": "2021-11-19T02:30:44.047723Z",
     "start_time": "2021-11-19T02:30:43.270576Z"
    },
    "hidden": true
   },
   "outputs": [],
   "source": [
    "# data science\n",
    "import pandas as pd\n",
    "import missingno as msngo\n",
    "\n",
    "# viz\n",
    "import matplotlib.pyplot as plt\n",
    "\n",
    "# geospatial\n",
    "import geopandas as gpd\n",
    "\n",
    "# module\n",
    "import sys\n",
    "sys.path.append(\"../src/\")\n",
    "import data, viz\n",
    "from authentication import census_key"
   ]
  },
  {
   "cell_type": "markdown",
   "id": "e82a8a03",
   "metadata": {
    "heading_collapsed": true
   },
   "source": [
    "### Read in Data"
   ]
  },
  {
   "cell_type": "code",
   "execution_count": 3,
   "id": "0edfd032",
   "metadata": {
    "ExecuteTime": {
     "end_time": "2021-11-19T02:30:44.124516Z",
     "start_time": "2021-11-19T02:30:44.049227Z"
    },
    "hidden": true
   },
   "outputs": [
    {
     "data": {
      "text/html": [
       "<div>\n",
       "<style scoped>\n",
       "    .dataframe tbody tr th:only-of-type {\n",
       "        vertical-align: middle;\n",
       "    }\n",
       "\n",
       "    .dataframe tbody tr th {\n",
       "        vertical-align: top;\n",
       "    }\n",
       "\n",
       "    .dataframe thead th {\n",
       "        text-align: right;\n",
       "    }\n",
       "</style>\n",
       "<table border=\"1\" class=\"dataframe\">\n",
       "  <thead>\n",
       "    <tr style=\"text-align: right;\">\n",
       "      <th></th>\n",
       "      <th>OBJECTID</th>\n",
       "      <th>TRACT</th>\n",
       "      <th>BLKGRP</th>\n",
       "      <th>GEOID</th>\n",
       "      <th>P0010001</th>\n",
       "      <th>P0010002</th>\n",
       "      <th>P0010003</th>\n",
       "      <th>P0010004</th>\n",
       "      <th>P0010005</th>\n",
       "      <th>P0010006</th>\n",
       "      <th>...</th>\n",
       "      <th>H0010003</th>\n",
       "      <th>GIS_ID</th>\n",
       "      <th>GLOBALID</th>\n",
       "      <th>CREATOR</th>\n",
       "      <th>CREATED</th>\n",
       "      <th>EDITOR</th>\n",
       "      <th>EDITED</th>\n",
       "      <th>SHAPEAREA</th>\n",
       "      <th>SHAPELEN</th>\n",
       "      <th>geometry</th>\n",
       "    </tr>\n",
       "  </thead>\n",
       "  <tbody>\n",
       "    <tr>\n",
       "      <th>0</th>\n",
       "      <td>1</td>\n",
       "      <td>001100</td>\n",
       "      <td>4</td>\n",
       "      <td>110010011004</td>\n",
       "      <td>722</td>\n",
       "      <td>687</td>\n",
       "      <td>610</td>\n",
       "      <td>29</td>\n",
       "      <td>2</td>\n",
       "      <td>41</td>\n",
       "      <td>...</td>\n",
       "      <td>10</td>\n",
       "      <td>BlockGroupPly_48</td>\n",
       "      <td>{706E35DA-3E58-44B3-92D4-A64756628066}</td>\n",
       "      <td>None</td>\n",
       "      <td>None</td>\n",
       "      <td>None</td>\n",
       "      <td>None</td>\n",
       "      <td>0</td>\n",
       "      <td>0</td>\n",
       "      <td>POLYGON ((-77.07295 38.95507, -77.07273 38.954...</td>\n",
       "    </tr>\n",
       "  </tbody>\n",
       "</table>\n",
       "<p>1 rows × 61 columns</p>\n",
       "</div>"
      ],
      "text/plain": [
       "   OBJECTID   TRACT BLKGRP         GEOID  P0010001  P0010002  P0010003  \\\n",
       "0         1  001100      4  110010011004       722       687       610   \n",
       "\n",
       "   P0010004  P0010005  P0010006  ...  H0010003            GIS_ID  \\\n",
       "0        29         2        41  ...        10  BlockGroupPly_48   \n",
       "\n",
       "                                 GLOBALID  CREATOR  CREATED  EDITOR  EDITED  \\\n",
       "0  {706E35DA-3E58-44B3-92D4-A64756628066}     None     None    None    None   \n",
       "\n",
       "   SHAPEAREA  SHAPELEN                                           geometry  \n",
       "0          0         0  POLYGON ((-77.07295 38.95507, -77.07273 38.954...  \n",
       "\n",
       "[1 rows x 61 columns]"
      ]
     },
     "metadata": {},
     "output_type": "display_data"
    }
   ],
   "source": [
    "gdf = gpd.read_file(\"../data/Census_Block_Groups_in_2010/\")\n",
    "display(gdf.head(1))"
   ]
  },
  {
   "cell_type": "markdown",
   "id": "af4c8f2f",
   "metadata": {},
   "source": [
    "## Census Data Overview\n",
    "\n",
    "An overview of the data available to us. "
   ]
  },
  {
   "cell_type": "markdown",
   "id": "594339ca",
   "metadata": {
    "heading_collapsed": true
   },
   "source": [
    "### Choosing a Survey"
   ]
  },
  {
   "cell_type": "markdown",
   "id": "33ed2559",
   "metadata": {
    "hidden": true
   },
   "source": [
    "The decennial census was last conducted in 2010, and as a result all of the measures that could obtain are dated. Due to this, I felt the American Community Survey may be more useful, as it is more frequent (1, 3 or 5 year spans) and still has all of the information I want for this dashboard. We can see a general overview of the survey at [ACS]:\n",
    "\n",
    ">\"[The ACS] started in 2005. It provides information on a wide range of social, economic, demographic, and housing characteristics. Topics covered include income, employment, health insurance, the age distribution, and education, among many others. The ACS replaces the old Census long form, which used to be distributed to a subset of households responding to the decennial Census. The ACS produces survey-based period estimates. For instance, the 5-year 2011-2015 estimates are based on data collected during all 5 years. They are not simply an aggregate of 1-year estimates, and overlapping 5-year estimates (e.g., 2008-2012 and 2011-2015) should not be compared. The ACS provides margins of error to accompany all estimates. Margins of error are smaller for estimates based on more years of data.\"\n",
    "\n",
    "The usefulness of this data in particular is confirmed by other similar studies, such as the EIG's DCI work (explained below). \n",
    "\n",
    "[ACS]: https://www.census.gov/programs-surveys/acs/"
   ]
  },
  {
   "cell_type": "markdown",
   "id": "9a32358f",
   "metadata": {
    "heading_collapsed": true
   },
   "source": [
    "### Variables of Interest and the Community Distress Index"
   ]
  },
  {
   "cell_type": "markdown",
   "id": "5344c414",
   "metadata": {
    "hidden": true
   },
   "source": [
    "The Economic Innovation Group serves as a great example overview of what we can do with the Census data we are pulling. The EIG focuses on a custom community distress index, which we could calculate or use as a general template for making our own meaningful aggregative community measures for analysis. The DCI exploration ([DCI]) studies data from the 5 Year ACS over the following seven DCI Variables:\n",
    "\n",
    "- <b>No high school diploma</b>: Percent of the 25+ population without a high school diploma or equivalent.\n",
    "- <b>Housing vacancy rate</b>: Percent of habitable housing that is unoccupied, excluding properties that are for seasonal, recreational, or occasional use.\n",
    "- <b>Adults not working</b>: Percent of the prime-age population (25-64) not currently in work.\n",
    "- <b>Poverty rate</b>: Percent of the population living under the poverty line.\n",
    "- <b>Median income ratio</b>: Median household income as a percent of the state’s median household income (to account for cost of living differences across states).\n",
    "- <b>Change in employment</b>: Percent change in the number of jobs.\n",
    "- <b>Change in establishments</b>: Percent change in the number of business establishments.\n",
    "\n",
    "The index is calculated by ranking units per each variable, averaging the ranks, and then normalizing the average to a percentile (see [DCI_methodology]). The communities are then grouped into quintiles and labeled (distressed, etc.). They also grouped study units (zip codes) into three population density categories (rural, suburban and urban) so that each is comprised of a third of the data used.  \n",
    "\n",
    "\n",
    "[DCI]: https://eig.org/dci\n",
    "[DCI_methodology]: https://eig.org/dci/methodology"
   ]
  },
  {
   "cell_type": "markdown",
   "id": "4de1004d",
   "metadata": {},
   "source": [
    "### Geography Granularity"
   ]
  },
  {
   "cell_type": "markdown",
   "id": "b692c86b",
   "metadata": {},
   "source": [
    "#### Overview of Available Geographies "
   ]
  },
  {
   "cell_type": "markdown",
   "id": "4aedb39b",
   "metadata": {},
   "source": [
    "Other than choosing the survey and variables (with variables present being dependent on the selected survey), the final decision to make is what geography/scaling to take the data at. For example, one could take data at the County level, or break up counties as shown below into individual census \"blocks\".\n",
    "\n",
    "<img src=\"./imgs/census_geo_1.png\" width=500 height=700/>\n",
    "\n",
    "The above image is not exhaustive. Following are some more geographies, although it is important to note that not all geographies are available in every survey. \n",
    "\n",
    "<img src=\"./imgs/census_geo_2.png\" width=500 height=700/>"
   ]
  },
  {
   "cell_type": "markdown",
   "id": "d289beab",
   "metadata": {},
   "source": [
    "#### Past Geography Selection "
   ]
  },
  {
   "cell_type": "markdown",
   "id": "990fd641",
   "metadata": {},
   "source": [
    "When I started to think about what geography to use when pulling data, I started with looking at what the DCI study used. \n",
    "\n",
    "From the [DCI_methodology], we saw usage of zip codes (ZCTA), with the methodology noting that\n",
    "> \"Since ZCTAs are static over each decade but zip codes may change, it is important to interpret the findings of the DCI as general trends for an approximate area rather than discrete developments within a clearly-defined set of lines.\"\n",
    "\n",
    "I decided I want to go for a smaller-scale geography when calling data, and decided to explore options more (detailed in the following section).\n",
    "\n",
    "You can view the geographical boundaries for the ACS at [dataset_list]. You first must locate the dataset you want, and then can click 'geographies' to get a list of the scales available for that data.      \n",
    "    \n",
    "    \n",
    "[DCI_methodology]: https://eig.org/dci/methodology\n",
    "[dataset_list]: https://api.census.gov/data.html"
   ]
  },
  {
   "cell_type": "markdown",
   "id": "3b1c1eef",
   "metadata": {},
   "source": [
    "### Deciding on Data to Pull"
   ]
  },
  {
   "cell_type": "markdown",
   "id": "32769626",
   "metadata": {},
   "source": [
    "To start, I needed to decide on a survey. I thought it would be useful to get as much data over time as we could to match our litter data, thus I started with the ACS 1 year survey. I then found geospatial boundary files from the Census 'TIGER' database ([TIGER]) and started to explore our options. \n",
    "\n",
    "I tried out many perspectives, noting that  \n",
    "- 'County subdivision' is too broad.\n",
    "- 'Core based statistical areas' are also too broad.\n",
    "- 'Places' won't work; in DC is only one 'place', thus this essentially still at the county level as far as analysis is concerned.\n",
    "    \n",
    "As a result, I decided we should follow suit of the DCI and use ACS 5 year survey data, which has finer geographies. In addition, the ACS 5 data is more reliable/accurate in its estimates than the AC1 data. I found that the only remaining geographies that were available in both the ACS 5 year survey and the TIGER data:\n",
    "\n",
    "- Tract.\n",
    "- Block Group.\n",
    "\n",
    "I ultimately chose the block group level. \n",
    "\n",
    "[TIGER]: https://www.census.gov/geographies/mapping-files/time-series/geo/tiger-line-file.html"
   ]
  },
  {
   "cell_type": "markdown",
   "id": "eb56b249",
   "metadata": {},
   "source": [
    "#### Final Decisions and Notes on Possible Changes"
   ]
  },
  {
   "cell_type": "markdown",
   "id": "28a4de33",
   "metadata": {},
   "source": [
    "So, to recap, for this initial data set call I have decided with the American Community 5 Year survey at the Block Group level from the year 2018."
   ]
  },
  {
   "cell_type": "markdown",
   "id": "83336fd5",
   "metadata": {},
   "source": [
    "### Feature Selection"
   ]
  },
  {
   "cell_type": "markdown",
   "id": "de32526f",
   "metadata": {},
   "source": [
    "With the geography and survey selection out of the way, I now look to identify some initial features of interest to ping for in our calls. There are of thousands of Census Bureau variables, but the selected survey (which was chosen for us by the geography selection as explained above) whittles down our options a good amount and makes this process a little easier for us. "
   ]
  },
  {
   "cell_type": "markdown",
   "id": "4c5dc0da",
   "metadata": {},
   "source": [
    "#### DCI Variables"
   ]
  },
  {
   "cell_type": "markdown",
   "id": "f2d91925",
   "metadata": {},
   "source": [
    "To start, I take inspiration from the DCI ([DCI]) and identified variables that matched these closely. Notably, many variables can be further broken down (high school degree attainment per individual races, etc.), but I kept the variables high-level for now to keep the initial data and associated API calls simple. Here are some selected current variables again, with the approximate corresponding census variables/descriptions I was able to find listed under each. Note all variables were ensured to exist over both 2013 and 2018 data. \n",
    "\n",
    "- <b>No high school diploma</b>:\n",
    "    - ```B15003_017E```: Estimated total with a regular high school diploma aged 25+.\n",
    "    - divide by ```B01003_001E```- total population (used to calculate rates)\n",
    "- <b>Housing vacancy rate</b>: Percent of habitable housing that is unoccupied, excluding properties that are for seasonal, recreational, or occasional use. This feature in particular was deemed a good indicator of DCI status. \n",
    "    - ```B25004_001E```: Total Estimate vacancy status.\n",
    "    - ```B25004_006E```: Total estimate for seasonal, recreational or occasional usage.\n",
    "    - dividing by ```B01003_001E```- total population (used to calculate rates)\n",
    "- Median income\n",
    "    - ```B19013_001E```: Median household income in the past 12 months (in 2017 inflation-adjusted dollars) \n",
    "\n",
    "[DCI]: https://eig.org/dci"
   ]
  },
  {
   "cell_type": "markdown",
   "id": "4b17e129",
   "metadata": {},
   "source": [
    "#### Final Variable Selection "
   ]
  },
  {
   "cell_type": "code",
   "execution_count": 4,
   "id": "040dc9de",
   "metadata": {
    "ExecuteTime": {
     "end_time": "2021-11-19T02:30:44.802281Z",
     "start_time": "2021-11-19T02:30:44.780720Z"
    },
    "code_folding": []
   },
   "outputs": [],
   "source": [
    "# features to pull\n",
    "variable2code = {\n",
    "                 \"population\":\"B01003_001E\",\n",
    "                 \"hs_diploma\":\"B15003_017E\",\n",
    "                 \"median_hh_income\":\"B19013_001E\",\n",
    "                 \"vacancy\":\"B25004_001E\", \n",
    "                 \"reason_vacancy\":\"B25004_006E\"\n",
    "                }\n",
    "\n",
    "# mapping from feature to column\n",
    "code2variable = dict(zip(variable2code.values(), variable2code.keys()))"
   ]
  },
  {
   "cell_type": "markdown",
   "id": "0e02aef8",
   "metadata": {},
   "source": [
    "## Pulling Data"
   ]
  },
  {
   "cell_type": "markdown",
   "id": "41d7df44",
   "metadata": {},
   "source": [
    "### Performing API Requests\n",
    "Note for blockgroup calls I can only perform one state per call. "
   ]
  },
  {
   "cell_type": "code",
   "execution_count": 5,
   "id": "fa3fe222",
   "metadata": {
    "ExecuteTime": {
     "end_time": "2021-11-19T02:37:29.594485Z",
     "start_time": "2021-11-19T02:30:44.934784Z"
    }
   },
   "outputs": [
    {
     "data": {
      "application/vnd.jupyter.widget-view+json": {
       "model_id": "a4415c6b67a3457f9652de58deab01b5",
       "version_major": 2,
       "version_minor": 0
      },
      "text/plain": [
       "HBox(children=(FloatProgress(value=0.0, description='Calling for data', max=450.0, style=ProgressStyle(descrip…"
      ]
     },
     "metadata": {},
     "output_type": "display_data"
    },
    {
     "name": "stdout",
     "output_type": "stream",
     "text": [
      "\n"
     ]
    }
   ],
   "source": [
    "census_df = data.run_api(census_key, \"2018\", list(gdf[\"GEOID\"]), code2variable)"
   ]
  },
  {
   "cell_type": "markdown",
   "id": "3b389b16",
   "metadata": {},
   "source": [
    "### Merging Dataframes "
   ]
  },
  {
   "cell_type": "code",
   "execution_count": 6,
   "id": "c94d84f7",
   "metadata": {
    "ExecuteTime": {
     "end_time": "2021-11-19T02:37:29.617844Z",
     "start_time": "2021-11-19T02:37:29.597370Z"
    }
   },
   "outputs": [],
   "source": [
    "# preparing merge key\n",
    "census_df[\"GEOID\"] = census_df[\"state\"]+census_df[\"county\"]+census_df[\"tract\"]+census_df[\"block group\"]\n",
    "gdf[\"GEOID\"] = gdf[\"GEOID\"].astype(str)"
   ]
  },
  {
   "cell_type": "code",
   "execution_count": 7,
   "id": "28b2a674",
   "metadata": {
    "ExecuteTime": {
     "end_time": "2021-11-19T02:37:30.370083Z",
     "start_time": "2021-11-19T02:37:29.619533Z"
    },
    "code_folding": []
   },
   "outputs": [],
   "source": [
    "df = census_df.merge(gdf[[\"GEOID\", \"geometry\"]], on=\"GEOID\", how=\"left\")"
   ]
  },
  {
   "cell_type": "markdown",
   "id": "699b83ba",
   "metadata": {},
   "source": [
    "### Missing Data"
   ]
  },
  {
   "cell_type": "code",
   "execution_count": 8,
   "id": "605e033a",
   "metadata": {
    "ExecuteTime": {
     "end_time": "2021-11-19T02:37:30.700637Z",
     "start_time": "2021-11-19T02:37:30.372488Z"
    }
   },
   "outputs": [
    {
     "data": {
      "text/plain": [
       "<matplotlib.axes._subplots.AxesSubplot at 0x7f1fb34c7c90>"
      ]
     },
     "execution_count": 8,
     "metadata": {},
     "output_type": "execute_result"
    },
    {
     "data": {
      "image/png": "[encoded data removed]",
      "text/plain": [
       "<Figure size 1800x720 with 2 Axes>"
      ]
     },
     "metadata": {},
     "output_type": "display_data"
    }
   ],
   "source": [
    "msngo.matrix(df)"
   ]
  },
  {
   "cell_type": "markdown",
   "id": "94b92e62",
   "metadata": {},
   "source": [
    "### Basic Exploration"
   ]
  },
  {
   "cell_type": "code",
   "execution_count": 9,
   "id": "18d87de1",
   "metadata": {
    "ExecuteTime": {
     "end_time": "2021-11-19T02:37:30.718041Z",
     "start_time": "2021-11-19T02:37:30.702131Z"
    },
    "code_folding": []
   },
   "outputs": [],
   "source": [
    "# Note I only am considering the Census features I called for here. \n",
    "feature_cols = list(variable2code.keys())\n",
    "df[feature_cols] = df[feature_cols].astype(float)"
   ]
  },
  {
   "cell_type": "code",
   "execution_count": 10,
   "id": "ee73e984",
   "metadata": {
    "ExecuteTime": {
     "end_time": "2021-11-19T02:37:30.750715Z",
     "start_time": "2021-11-19T02:37:30.719489Z"
    }
   },
   "outputs": [
    {
     "data": {
      "text/html": [
       "<div>\n",
       "<style scoped>\n",
       "    .dataframe tbody tr th:only-of-type {\n",
       "        vertical-align: middle;\n",
       "    }\n",
       "\n",
       "    .dataframe tbody tr th {\n",
       "        vertical-align: top;\n",
       "    }\n",
       "\n",
       "    .dataframe thead th {\n",
       "        text-align: right;\n",
       "    }\n",
       "</style>\n",
       "<table border=\"1\" class=\"dataframe\">\n",
       "  <thead>\n",
       "    <tr style=\"text-align: right;\">\n",
       "      <th></th>\n",
       "      <th>population</th>\n",
       "      <th>hs_diploma</th>\n",
       "      <th>median_hh_income</th>\n",
       "      <th>vacancy</th>\n",
       "      <th>reason_vacancy</th>\n",
       "    </tr>\n",
       "  </thead>\n",
       "  <tbody>\n",
       "    <tr>\n",
       "      <th>count</th>\n",
       "      <td>450.000000</td>\n",
       "      <td>450.000000</td>\n",
       "      <td>4.500000e+02</td>\n",
       "      <td>450.000000</td>\n",
       "      <td>450.000000</td>\n",
       "    </tr>\n",
       "    <tr>\n",
       "      <th>mean</th>\n",
       "      <td>1521.106667</td>\n",
       "      <td>157.162222</td>\n",
       "      <td>-2.361062e+07</td>\n",
       "      <td>67.162222</td>\n",
       "      <td>7.755556</td>\n",
       "    </tr>\n",
       "    <tr>\n",
       "      <th>std</th>\n",
       "      <td>739.520836</td>\n",
       "      <td>156.206114</td>\n",
       "      <td>1.236081e+08</td>\n",
       "      <td>62.579218</td>\n",
       "      <td>20.652772</td>\n",
       "    </tr>\n",
       "    <tr>\n",
       "      <th>min</th>\n",
       "      <td>60.000000</td>\n",
       "      <td>0.000000</td>\n",
       "      <td>-6.666667e+08</td>\n",
       "      <td>0.000000</td>\n",
       "      <td>0.000000</td>\n",
       "    </tr>\n",
       "    <tr>\n",
       "      <th>25%</th>\n",
       "      <td>1001.000000</td>\n",
       "      <td>35.000000</td>\n",
       "      <td>4.808075e+04</td>\n",
       "      <td>23.250000</td>\n",
       "      <td>0.000000</td>\n",
       "    </tr>\n",
       "    <tr>\n",
       "      <th>50%</th>\n",
       "      <td>1421.000000</td>\n",
       "      <td>117.500000</td>\n",
       "      <td>8.923800e+04</td>\n",
       "      <td>51.500000</td>\n",
       "      <td>0.000000</td>\n",
       "    </tr>\n",
       "    <tr>\n",
       "      <th>75%</th>\n",
       "      <td>1847.000000</td>\n",
       "      <td>221.750000</td>\n",
       "      <td>1.267322e+05</td>\n",
       "      <td>98.750000</td>\n",
       "      <td>0.000000</td>\n",
       "    </tr>\n",
       "    <tr>\n",
       "      <th>max</th>\n",
       "      <td>6019.000000</td>\n",
       "      <td>831.000000</td>\n",
       "      <td>2.500010e+05</td>\n",
       "      <td>405.000000</td>\n",
       "      <td>214.000000</td>\n",
       "    </tr>\n",
       "  </tbody>\n",
       "</table>\n",
       "</div>"
      ],
      "text/plain": [
       "        population  hs_diploma  median_hh_income     vacancy  reason_vacancy\n",
       "count   450.000000  450.000000      4.500000e+02  450.000000      450.000000\n",
       "mean   1521.106667  157.162222     -2.361062e+07   67.162222        7.755556\n",
       "std     739.520836  156.206114      1.236081e+08   62.579218       20.652772\n",
       "min      60.000000    0.000000     -6.666667e+08    0.000000        0.000000\n",
       "25%    1001.000000   35.000000      4.808075e+04   23.250000        0.000000\n",
       "50%    1421.000000  117.500000      8.923800e+04   51.500000        0.000000\n",
       "75%    1847.000000  221.750000      1.267322e+05   98.750000        0.000000\n",
       "max    6019.000000  831.000000      2.500010e+05  405.000000      214.000000"
      ]
     },
     "execution_count": 10,
     "metadata": {},
     "output_type": "execute_result"
    }
   ],
   "source": [
    "df.describe()"
   ]
  },
  {
   "cell_type": "markdown",
   "id": "8e37f6a7",
   "metadata": {},
   "source": [
    "## Feature Engineering Census Data"
   ]
  },
  {
   "cell_type": "code",
   "execution_count": 11,
   "id": "b67beecd",
   "metadata": {
    "ExecuteTime": {
     "end_time": "2021-11-19T02:37:30.765289Z",
     "start_time": "2021-11-19T02:37:30.752318Z"
    }
   },
   "outputs": [],
   "source": [
    "make_rate = lambda x, y: round((x/y)*100, 2)"
   ]
  },
  {
   "cell_type": "markdown",
   "id": "7739d994",
   "metadata": {},
   "source": [
    "### % Population with High School Being Highest Education Level"
   ]
  },
  {
   "cell_type": "code",
   "execution_count": 12,
   "id": "e15d9e9f",
   "metadata": {
    "ExecuteTime": {
     "end_time": "2021-11-19T02:37:30.781873Z",
     "start_time": "2021-11-19T02:37:30.767675Z"
    }
   },
   "outputs": [],
   "source": [
    "df[\"hs_diploma_rate\"] = make_rate(df[\"hs_diploma\"], df[\"population\"])"
   ]
  },
  {
   "cell_type": "code",
   "execution_count": 13,
   "id": "aaaf4300",
   "metadata": {
    "ExecuteTime": {
     "end_time": "2021-11-19T02:37:30.966001Z",
     "start_time": "2021-11-19T02:37:30.783456Z"
    }
   },
   "outputs": [
    {
     "data": {
      "image/png": "[encoded data removed]",
      "text/plain": [
       "<Figure size 432x288 with 1 Axes>"
      ]
     },
     "metadata": {},
     "output_type": "display_data"
    }
   ],
   "source": [
    "viz.quick_histogram(df, \"hs_diploma_rate\")"
   ]
  },
  {
   "cell_type": "markdown",
   "id": "e0b5e0f1",
   "metadata": {},
   "source": [
    "### \"True\" Housing Vacancy Rate \n",
    "\n",
    "Subtracting vacancies due to reasons such as \"vacation home\" from the total vacancy percentages. "
   ]
  },
  {
   "cell_type": "code",
   "execution_count": 14,
   "id": "00efce49",
   "metadata": {
    "ExecuteTime": {
     "end_time": "2021-11-19T02:37:30.983747Z",
     "start_time": "2021-11-19T02:37:30.967321Z"
    }
   },
   "outputs": [],
   "source": [
    "df[\"true_vacant\"] = df[\"vacancy\"] - df[\"reason_vacancy\"]\n",
    "df[\"vacancy_rate\"] = make_rate(df[\"true_vacant\"], df[\"population\"])"
   ]
  },
  {
   "cell_type": "code",
   "execution_count": 15,
   "id": "9023698f",
   "metadata": {
    "ExecuteTime": {
     "end_time": "2021-11-19T02:37:31.170024Z",
     "start_time": "2021-11-19T02:37:30.985138Z"
    }
   },
   "outputs": [
    {
     "data": {
      "image/png": "[encoded data removed]",
      "text/plain": [
       "<Figure size 432x288 with 1 Axes>"
      ]
     },
     "metadata": {},
     "output_type": "display_data"
    }
   ],
   "source": [
    "viz.quick_histogram(df, \"vacancy_rate\")"
   ]
  },
  {
   "cell_type": "markdown",
   "id": "913e1cc1",
   "metadata": {},
   "source": [
    "### Median HH Income"
   ]
  },
  {
   "cell_type": "code",
   "execution_count": 16,
   "id": "04c54b02",
   "metadata": {
    "ExecuteTime": {
     "end_time": "2021-11-19T02:37:31.185989Z",
     "start_time": "2021-11-19T02:37:31.171621Z"
    }
   },
   "outputs": [],
   "source": [
    "# for this simple exploration I'm just going to remove rows with negative values \n",
    "df = df[df[\"median_hh_income\"]>0]"
   ]
  },
  {
   "cell_type": "code",
   "execution_count": 17,
   "id": "246c5ad0",
   "metadata": {
    "ExecuteTime": {
     "end_time": "2021-11-19T02:37:31.371873Z",
     "start_time": "2021-11-19T02:37:31.187689Z"
    }
   },
   "outputs": [
    {
     "data": {
      "image/png": "[encoded data removed]",
      "text/plain": [
       "<Figure size 432x288 with 1 Axes>"
      ]
     },
     "metadata": {},
     "output_type": "display_data"
    }
   ],
   "source": [
    "viz.quick_histogram(df, \"median_hh_income\")"
   ]
  },
  {
   "cell_type": "markdown",
   "id": "c283032c",
   "metadata": {},
   "source": [
    "### Custom DCI Segmentation\n",
    "\n",
    "Taking inspiration from the DCI ranking scheme with some of the variables we have here to create our own DCI grouping. "
   ]
  },
  {
   "cell_type": "code",
   "execution_count": 18,
   "id": "69502350",
   "metadata": {
    "ExecuteTime": {
     "end_time": "2021-11-19T02:37:31.387050Z",
     "start_time": "2021-11-19T02:37:31.373360Z"
    }
   },
   "outputs": [],
   "source": [
    "# selecting the variables to use in calculations and DCI class assignment\n",
    "dci_vars2asc = {\n",
    "                \"hs_diploma_rate\":True, # lower rates better ()\n",
    "                \"vacancy_rate\":True, # lower rates better\n",
    "                \"median_hh_income\":False # higher median income better\n",
    "               }"
   ]
  },
  {
   "cell_type": "code",
   "execution_count": 19,
   "id": "81d0c507",
   "metadata": {
    "ExecuteTime": {
     "end_time": "2021-11-19T02:37:31.405422Z",
     "start_time": "2021-11-19T02:37:31.388662Z"
    }
   },
   "outputs": [],
   "source": [
    "# Calculating ranks in each variable (over data year).\n",
    "for var, asc in dci_vars2asc.items():\n",
    "    df[var+\"_rank\"] = df[var].rank(ascending=asc, method=\"dense\")"
   ]
  },
  {
   "cell_type": "code",
   "execution_count": 20,
   "id": "90996387",
   "metadata": {
    "ExecuteTime": {
     "end_time": "2021-11-19T02:37:31.423348Z",
     "start_time": "2021-11-19T02:37:31.406885Z"
    }
   },
   "outputs": [],
   "source": [
    "# averaging the ranks per each site/year combination\n",
    "rank_columns = [col+\"_rank\" for col in dci_vars2asc.keys()]\n",
    "df[\"rank_mean\"] = df[rank_columns].mean(axis=1)"
   ]
  },
  {
   "cell_type": "code",
   "execution_count": 21,
   "id": "a0d43035",
   "metadata": {
    "ExecuteTime": {
     "end_time": "2021-11-19T02:37:31.441187Z",
     "start_time": "2021-11-19T02:37:31.425304Z"
    }
   },
   "outputs": [],
   "source": [
    "df.reset_index(drop=True, inplace=True) # Removing the closest site outer index. "
   ]
  },
  {
   "cell_type": "code",
   "execution_count": 22,
   "id": "2f3deceb",
   "metadata": {
    "ExecuteTime": {
     "end_time": "2021-11-19T02:37:31.463224Z",
     "start_time": "2021-11-19T02:37:31.443133Z"
    }
   },
   "outputs": [],
   "source": [
    "# Note these are ranks, thus the lower the better.\n",
    "df[\"dci\"] = pd.qcut(df[\"rank_mean\"], 4, labels=[\"Prosperous\", \"Decent\", \"At Risk\", \"Worst\"])"
   ]
  },
  {
   "cell_type": "code",
   "execution_count": 23,
   "id": "ad598c87",
   "metadata": {
    "ExecuteTime": {
     "end_time": "2021-11-19T02:37:31.482061Z",
     "start_time": "2021-11-19T02:37:31.464885Z"
    }
   },
   "outputs": [
    {
     "data": {
      "text/plain": [
       "[Prosperous, At Risk, Worst, Decent]\n",
       "Categories (4, object): [Prosperous < Decent < At Risk < Worst]"
      ]
     },
     "execution_count": 23,
     "metadata": {},
     "output_type": "execute_result"
    }
   ],
   "source": [
    "df[\"dci\"].unique() # remember lower is better since rank-based, so prosperous on left end"
   ]
  },
  {
   "cell_type": "markdown",
   "id": "f707ac98",
   "metadata": {},
   "source": [
    "## Saving "
   ]
  },
  {
   "cell_type": "code",
   "execution_count": 24,
   "id": "3ee3c94b",
   "metadata": {
    "ExecuteTime": {
     "end_time": "2021-11-19T02:37:31.678332Z",
     "start_time": "2021-11-19T02:37:31.483549Z"
    }
   },
   "outputs": [],
   "source": [
    "keep_features = [\"geometry\", \"hs_diploma_rate\", \"vacancy_rate\", \"median_hh_income\", \"population\", \"dci\"]\n",
    "df[keep_features].to_csv(\"../data/processed.csv\")"
   ]
  }
 ],
 "metadata": {
  "kernelspec": {
   "display_name": "GIS",
   "language": "python",
   "name": "gis"
  },
  "language_info": {
   "codemirror_mode": {
    "name": "ipython",
    "version": 3
   },
   "file_extension": ".py",
   "mimetype": "text/x-python",
   "name": "python",
   "nbconvert_exporter": "python",
   "pygments_lexer": "ipython3",
   "version": "3.7.6"
  },
  "latex_envs": {
   "LaTeX_envs_menu_present": true,
   "autoclose": false,
   "autocomplete": true,
   "bibliofile": "biblio.bib",
   "cite_by": "apalike",
   "current_citInitial": 1,
   "eqLabelWithNumbers": true,
   "eqNumInitial": 1,
   "hotkeys": {
    "equation": "Ctrl-E",
    "itemize": "Ctrl-I"
   },
   "labels_anchors": false,
   "latex_user_defs": false,
   "report_style_numbering": false,
   "user_envs_cfg": false
  },
  "toc": {
   "base_numbering": 1,
   "nav_menu": {},
   "number_sections": true,
   "sideBar": true,
   "skip_h1_title": false,
   "title_cell": "Table of Contents",
   "title_sidebar": "Contents",
   "toc_cell": false,
   "toc_position": {
    "height": "calc(100% - 180px)",
    "left": "10px",
    "top": "150px",
    "width": "267.196px"
   },
   "toc_section_display": true,
   "toc_window_display": true
  }
 },
 "nbformat": 4,
 "nbformat_minor": 5
}
